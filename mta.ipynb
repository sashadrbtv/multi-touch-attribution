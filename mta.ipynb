{
 "cells": [
  {
   "cell_type": "markdown",
   "metadata": {},
   "source": [
    "# Multi Touch Attribution"
   ]
  },
  {
   "source": [
    "Multi-touch attribution is a method of marketing measurement that evaluates the impact of each touchpoint in driving a conversion, thereby determining the value of that specific touchpoint.\n",
    "Today’s buyer journeys span many devices and touchpoints before resulting in a conversion. In order to optimize campaigns and create more customized consumer experiences, marketers need to understand which touchpoints and messages a consumer came in contact with that resulted in a positive action.\n",
    "\n",
    "Here is a simple example of how to implement multi touch attribution models (first and last click) by using SQL (mostly) and Python. As a result we have to estimate Return on Investments (ROI) for each advertising campaign."
   ],
   "cell_type": "markdown",
   "metadata": {}
  },
  {
   "cell_type": "code",
   "execution_count": 1,
   "metadata": {},
   "outputs": [],
   "source": [
    "import pandas as pd\n",
    "import numpy as np\n",
    "\n",
    "#import matplotlib.pyplot as plt\n",
    "#%matplotlib inline\n",
    "#plt.rcParams[\"figure.figsize\"] = (16,3)"
   ]
  },
  {
   "cell_type": "code",
   "execution_count": 2,
   "metadata": {},
   "outputs": [],
   "source": [
    "import sqlite3\n",
    "conn = sqlite3.connect('data_mta.db')\n",
    "\n",
    "def get_df_from_query(query):\n",
    "    return pd.read_sql(query, conn)\n",
    "\n",
    "def create_table_from_query(query):\n",
    "    return conn.execute(query)\n",
    "\n",
    "#or use pandas\n",
    "#accounts = pd.read_csv('accounts.csv', usecols=[1,2])\n",
    "#costs = pd.read_csv('costs (1).csv', sep=';')\n",
    "#sessions = pd.read_csv('sessions.csv', usecols=[1,2,3,4,5], dtype={'ga_cid':str}, parse_dates=[1])\n",
    "#visitors = pd.read_csv('visitors.csv', usecols=[1,2,3,4], parse_dates=[3])"
   ]
  },
  {
   "cell_type": "code",
   "execution_count": 3,
   "metadata": {},
   "outputs": [
    {
     "output_type": "execute_result",
     "data": {
      "text/plain": "    type              name    tbl_name  rootpage  \\\n0  table           visitor     visitor         2   \n1  index  ix_visitor_index     visitor         3   \n2  table           session     session       163   \n3  index  ix_session_index     session       164   \n4  table           account     account       546   \n5  table              cost        cost       523   \n6  table        clean_data  clean_data       524   \n\n                                                 sql  \n0  CREATE TABLE &quot;visitor&quot; (\\n&quot;index&quot; INTEGER,\\n  ...  \n1  CREATE INDEX &quot;ix_visitor_index&quot;ON &quot;visitor&quot; (&quot;...  \n2  CREATE TABLE &quot;session&quot; (\\n&quot;index&quot; INTEGER,\\n  ...  \n3  CREATE INDEX &quot;ix_session_index&quot;ON &quot;session&quot; (&quot;...  \n4           CREATE TABLE &quot;account&quot;(id TEXT,mrr REAL)  \n5  CREATE TABLE cost (\\n medium text,\\n source te...  \n6  CREATE TABLE clean_data(\\n  ga_cid TEXT,\\n  us...  ",
      "text/html": "<div>\n<style scoped>\n    .dataframe tbody tr th:only-of-type {\n        vertical-align: middle;\n    }\n\n    .dataframe tbody tr th {\n        vertical-align: top;\n    }\n\n    .dataframe thead th {\n        text-align: right;\n    }\n</style>\n<table border=\"1\" class=\"dataframe\">\n  <thead>\n    <tr style=\"text-align: right;\">\n      <th></th>\n      <th>type</th>\n      <th>name</th>\n      <th>tbl_name</th>\n      <th>rootpage</th>\n      <th>sql</th>\n    </tr>\n  </thead>\n  <tbody>\n    <tr>\n      <td>0</td>\n      <td>table</td>\n      <td>visitor</td>\n      <td>visitor</td>\n      <td>2</td>\n      <td>CREATE TABLE \"visitor\" (\\n\"index\" INTEGER,\\n  ...</td>\n    </tr>\n    <tr>\n      <td>1</td>\n      <td>index</td>\n      <td>ix_visitor_index</td>\n      <td>visitor</td>\n      <td>3</td>\n      <td>CREATE INDEX \"ix_visitor_index\"ON \"visitor\" (\"...</td>\n    </tr>\n    <tr>\n      <td>2</td>\n      <td>table</td>\n      <td>session</td>\n      <td>session</td>\n      <td>163</td>\n      <td>CREATE TABLE \"session\" (\\n\"index\" INTEGER,\\n  ...</td>\n    </tr>\n    <tr>\n      <td>3</td>\n      <td>index</td>\n      <td>ix_session_index</td>\n      <td>session</td>\n      <td>164</td>\n      <td>CREATE INDEX \"ix_session_index\"ON \"session\" (\"...</td>\n    </tr>\n    <tr>\n      <td>4</td>\n      <td>table</td>\n      <td>account</td>\n      <td>account</td>\n      <td>546</td>\n      <td>CREATE TABLE \"account\"(id TEXT,mrr REAL)</td>\n    </tr>\n    <tr>\n      <td>5</td>\n      <td>table</td>\n      <td>cost</td>\n      <td>cost</td>\n      <td>523</td>\n      <td>CREATE TABLE cost (\\n medium text,\\n source te...</td>\n    </tr>\n    <tr>\n      <td>6</td>\n      <td>table</td>\n      <td>clean_data</td>\n      <td>clean_data</td>\n      <td>524</td>\n      <td>CREATE TABLE clean_data(\\n  ga_cid TEXT,\\n  us...</td>\n    </tr>\n  </tbody>\n</table>\n</div>"
     },
     "metadata": {},
     "execution_count": 3
    }
   ],
   "source": [
    "get_df_from_query(\"select * from sqlite_master\")"
   ]
  },
  {
   "cell_type": "markdown",
   "metadata": {},
   "source": [
    "#### data model:\n",
    "    \n",
    "    ONE ga_cid to MANY account_id & MANY user_id\n",
    "    ONE user_id to ONE ga_cid & MANY account_id\n",
    "    ONE account_id to ONE user_id & ONE ga_cid"
   ]
  },
  {
   "cell_type": "code",
   "execution_count": 4,
   "metadata": {},
   "outputs": [],
   "source": [
    "create_table_from_query(\"\"\"drop table if exists clean_data\"\"\");\n",
    "\n",
    "create_table_from_query(\"\"\"\n",
    "    create table clean_data as\n",
    "    with \n",
    "    v as (\n",
    "        select \n",
    "            substr(ga_cookie, 7, instr(ga_cookie, '.') + 17) ga_cid, \n",
    "            user_id,\n",
    "            account_id,\n",
    "            registration_date\n",
    "            from visitor\n",
    "            where account_id is not null),\n",
    "    mta as (    \n",
    "        select\n",
    "            ga_cid, user_id, account_id, registration_date, event_date, medium, source, campaign, mrr\n",
    "        from session\n",
    "        inner join v using(ga_cid)\n",
    "        left join account on account_id=id\n",
    "        where registration_date >= event_date),\n",
    "    mta_ as (\n",
    "        select \n",
    "            *,\n",
    "            row_number() over(partition by user_id order by event_date) first_click,\n",
    "            row_number() over(partition by user_id order by event_date desc) last_click,\n",
    "            ((julianday(registration_date) - julianday(event_date)) * 60 * 60 * 24) time_delta_sec,\n",
    "            sum(mrr) over(partition by user_id) mrr_user\n",
    "        from mta\n",
    "    )\n",
    "    select * from mta_\n",
    "    \"\"\");"
   ]
  },
  {
   "cell_type": "code",
   "execution_count": null,
   "metadata": {},
   "outputs": [],
   "source": []
  },
  {
   "cell_type": "code",
   "execution_count": 5,
   "metadata": {},
   "outputs": [],
   "source": [
    "def get_mta_metrics(mta_type='first', agg_level='campaign'):\n",
    "    \"\"\"\n",
    "    Params:\n",
    "        mta_type (str): multi touch attribution model ('first' or 'last' clicks)\n",
    "        agg_level (str): level of aggregation ('medium', 'source', 'campaign')\n",
    "    \n",
    "    Return: \n",
    "        aggregated data frame with conversion, mrr, cost, and roi\n",
    "    \"\"\"\n",
    "    query = f\"\"\"\n",
    "        with \n",
    "        c as (\n",
    "            select \n",
    "                {agg_level}, sum(cost) cost\n",
    "            from cost \n",
    "            group by {agg_level}),\n",
    "        m as (\n",
    "            select \n",
    "                {agg_level}, count(*) conversion, sum(mrr_user) mrr\n",
    "            from clean_data\n",
    "            where {mta_type}_click = 1\n",
    "            group by {agg_level})\n",
    "        select m.*, c.cost, mrr/cost roi from m\n",
    "        left join c using({agg_level})\n",
    "        \"\"\"\n",
    "    \n",
    "    return get_df_from_query(query)"
   ]
  },
  {
   "cell_type": "code",
   "execution_count": 6,
   "metadata": {},
   "outputs": [
    {
     "output_type": "execute_result",
     "data": {
      "text/plain": "                                     id  cnt\n0  a2d671cd-a9db-45b1-a661-24665109f872    3\n1  46c4f287-8ea1-4950-977d-86561c05322e    2\n2  4860a5e9-b5c4-496a-ad83-ff87e3770da3    2\n3  a5a603be-c38c-45a9-bf6f-c18a35bdb15d    2\n4  cd7d1d77-6cec-4d0c-ae2a-a2871ce4c0c4    2\n5  00304ddd-6785-42ed-bd81-ee4509249833    1",
      "text/html": "<div>\n<style scoped>\n    .dataframe tbody tr th:only-of-type {\n        vertical-align: middle;\n    }\n\n    .dataframe tbody tr th {\n        vertical-align: top;\n    }\n\n    .dataframe thead th {\n        text-align: right;\n    }\n</style>\n<table border=\"1\" class=\"dataframe\">\n  <thead>\n    <tr style=\"text-align: right;\">\n      <th></th>\n      <th>id</th>\n      <th>cnt</th>\n    </tr>\n  </thead>\n  <tbody>\n    <tr>\n      <td>0</td>\n      <td>a2d671cd-a9db-45b1-a661-24665109f872</td>\n      <td>3</td>\n    </tr>\n    <tr>\n      <td>1</td>\n      <td>46c4f287-8ea1-4950-977d-86561c05322e</td>\n      <td>2</td>\n    </tr>\n    <tr>\n      <td>2</td>\n      <td>4860a5e9-b5c4-496a-ad83-ff87e3770da3</td>\n      <td>2</td>\n    </tr>\n    <tr>\n      <td>3</td>\n      <td>a5a603be-c38c-45a9-bf6f-c18a35bdb15d</td>\n      <td>2</td>\n    </tr>\n    <tr>\n      <td>4</td>\n      <td>cd7d1d77-6cec-4d0c-ae2a-a2871ce4c0c4</td>\n      <td>2</td>\n    </tr>\n    <tr>\n      <td>5</td>\n      <td>00304ddd-6785-42ed-bd81-ee4509249833</td>\n      <td>1</td>\n    </tr>\n  </tbody>\n</table>\n</div>"
     },
     "metadata": {},
     "execution_count": 6
    }
   ],
   "source": [
    "get_df_from_query(\"select user_id id, count(*) cnt from clean_data group by id order by cnt desc limit 6\")"
   ]
  },
  {
   "cell_type": "code",
   "execution_count": 7,
   "metadata": {},
   "outputs": [
    {
     "output_type": "execute_result",
     "data": {
      "text/plain": "                        campaign  conversion      mrr     cost       roi\n0                           None         809  95615.0      NaN       NaN\n1         Collaboration software          53   4061.4   4000.0  1.015350\n2                    Competitors         121  19307.8  20000.0  0.965390\n3                           Free          65   6627.8   4500.0  1.472844\n4                            GTD          59   3981.0  14000.0  0.284357\n5                 Gantt software         101  12588.0  18500.0  0.680432\n6                    Remarketing          44   7235.2  22000.0  0.328873\n7                  Task software          66   4909.2   4200.0  1.168857\n8       Team Management software          68  14426.4   8500.0  1.697224\n9   Video collaboration software           6      0.0  14000.0  0.000000\n10          Video gantt software          23   3234.0   2000.0  1.617000",
      "text/html": "<div>\n<style scoped>\n    .dataframe tbody tr th:only-of-type {\n        vertical-align: middle;\n    }\n\n    .dataframe tbody tr th {\n        vertical-align: top;\n    }\n\n    .dataframe thead th {\n        text-align: right;\n    }\n</style>\n<table border=\"1\" class=\"dataframe\">\n  <thead>\n    <tr style=\"text-align: right;\">\n      <th></th>\n      <th>campaign</th>\n      <th>conversion</th>\n      <th>mrr</th>\n      <th>cost</th>\n      <th>roi</th>\n    </tr>\n  </thead>\n  <tbody>\n    <tr>\n      <td>0</td>\n      <td>None</td>\n      <td>809</td>\n      <td>95615.0</td>\n      <td>NaN</td>\n      <td>NaN</td>\n    </tr>\n    <tr>\n      <td>1</td>\n      <td>Collaboration software</td>\n      <td>53</td>\n      <td>4061.4</td>\n      <td>4000.0</td>\n      <td>1.015350</td>\n    </tr>\n    <tr>\n      <td>2</td>\n      <td>Competitors</td>\n      <td>121</td>\n      <td>19307.8</td>\n      <td>20000.0</td>\n      <td>0.965390</td>\n    </tr>\n    <tr>\n      <td>3</td>\n      <td>Free</td>\n      <td>65</td>\n      <td>6627.8</td>\n      <td>4500.0</td>\n      <td>1.472844</td>\n    </tr>\n    <tr>\n      <td>4</td>\n      <td>GTD</td>\n      <td>59</td>\n      <td>3981.0</td>\n      <td>14000.0</td>\n      <td>0.284357</td>\n    </tr>\n    <tr>\n      <td>5</td>\n      <td>Gantt software</td>\n      <td>101</td>\n      <td>12588.0</td>\n      <td>18500.0</td>\n      <td>0.680432</td>\n    </tr>\n    <tr>\n      <td>6</td>\n      <td>Remarketing</td>\n      <td>44</td>\n      <td>7235.2</td>\n      <td>22000.0</td>\n      <td>0.328873</td>\n    </tr>\n    <tr>\n      <td>7</td>\n      <td>Task software</td>\n      <td>66</td>\n      <td>4909.2</td>\n      <td>4200.0</td>\n      <td>1.168857</td>\n    </tr>\n    <tr>\n      <td>8</td>\n      <td>Team Management software</td>\n      <td>68</td>\n      <td>14426.4</td>\n      <td>8500.0</td>\n      <td>1.697224</td>\n    </tr>\n    <tr>\n      <td>9</td>\n      <td>Video collaboration software</td>\n      <td>6</td>\n      <td>0.0</td>\n      <td>14000.0</td>\n      <td>0.000000</td>\n    </tr>\n    <tr>\n      <td>10</td>\n      <td>Video gantt software</td>\n      <td>23</td>\n      <td>3234.0</td>\n      <td>2000.0</td>\n      <td>1.617000</td>\n    </tr>\n  </tbody>\n</table>\n</div>"
     },
     "metadata": {},
     "execution_count": 7
    }
   ],
   "source": [
    "get_mta_metrics(agg_level='campaign')"
   ]
  },
  {
   "cell_type": "code",
   "execution_count": null,
   "metadata": {},
   "outputs": [],
   "source": []
  },
  {
   "cell_type": "code",
   "execution_count": null,
   "metadata": {},
   "outputs": [],
   "source": []
  },
  {
   "cell_type": "code",
   "execution_count": null,
   "metadata": {},
   "outputs": [],
   "source": []
  }
 ],
 "metadata": {
  "kernelspec": {
   "display_name": "Python 3",
   "language": "python",
   "name": "python3"
  },
  "language_info": {
   "codemirror_mode": {
    "name": "ipython",
    "version": 3
   },
   "file_extension": ".py",
   "mimetype": "text/x-python",
   "name": "python",
   "nbconvert_exporter": "python",
   "pygments_lexer": "ipython3",
   "version": "3.7.3-final"
  }
 },
 "nbformat": 4,
 "nbformat_minor": 2
}